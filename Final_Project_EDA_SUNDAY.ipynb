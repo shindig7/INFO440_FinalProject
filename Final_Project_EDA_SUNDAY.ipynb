{
 "cells": [
  {
   "cell_type": "code",
   "execution_count": 1,
   "metadata": {},
   "outputs": [],
   "source": [
    "import pandas as pd\n",
    "\n",
    "# Matplot\n",
    "import matplotlib.pyplot as plt\n",
    "%matplotlib inline\n",
    "\n",
    "# nltk\n",
    "import nltk\n",
    "from nltk.corpus import stopwords\n",
    "from  nltk.stem import SnowballStemmer\n",
    "## Word2vec\n",
    "#import gensim\n",
    "\n",
    "# Utility\n",
    "import re\n",
    "import numpy as np\n",
    "import os\n",
    "from collections import Counter\n",
    "import logging\n",
    "import time\n",
    "import pickle\n",
    "import itertools\n",
    "\n",
    "# Set log\n",
    "logging.basicConfig(format='%(asctime)s : %(levelname)s : %(message)s', level=logging.INFO)\n"
   ]
  },
  {
   "cell_type": "code",
   "execution_count": 57,
   "metadata": {},
   "outputs": [],
   "source": [
    "#data = pd.read_csv('twitter.csv', encoding='latin-1', names=[\"Target\", \"Ids\", \"Date\", \"Flag\", \"User\", \"Text\"])\n",
    "data = pd.read_csv('ten_percent_sample.csv')"
   ]
  },
  {
   "cell_type": "code",
   "execution_count": 58,
   "metadata": {},
   "outputs": [],
   "source": [
    "#del data['Flag']"
   ]
  },
  {
   "cell_type": "code",
   "execution_count": 59,
   "metadata": {},
   "outputs": [
    {
     "data": {
      "text/html": [
       "<div>\n",
       "<style scoped>\n",
       "    .dataframe tbody tr th:only-of-type {\n",
       "        vertical-align: middle;\n",
       "    }\n",
       "\n",
       "    .dataframe tbody tr th {\n",
       "        vertical-align: top;\n",
       "    }\n",
       "\n",
       "    .dataframe thead th {\n",
       "        text-align: right;\n",
       "    }\n",
       "</style>\n",
       "<table border=\"1\" class=\"dataframe\">\n",
       "  <thead>\n",
       "    <tr style=\"text-align: right;\">\n",
       "      <th></th>\n",
       "      <th>Unnamed: 0</th>\n",
       "      <th>Target</th>\n",
       "      <th>Ids</th>\n",
       "      <th>Date</th>\n",
       "      <th>Flag</th>\n",
       "      <th>User</th>\n",
       "      <th>Text</th>\n",
       "    </tr>\n",
       "  </thead>\n",
       "  <tbody>\n",
       "    <tr>\n",
       "      <th>131961</th>\n",
       "      <td>779698</td>\n",
       "      <td>NEGATIVE</td>\n",
       "      <td>2322989865</td>\n",
       "      <td>Wed Jun 24 23:41:03 PDT 2009</td>\n",
       "      <td>NO_QUERY</td>\n",
       "      <td>Kayteeee4</td>\n",
       "      <td>I just really need some motts applesauce</td>\n",
       "    </tr>\n",
       "    <tr>\n",
       "      <th>63097</th>\n",
       "      <td>929015</td>\n",
       "      <td>POSITIVE</td>\n",
       "      <td>1759816359</td>\n",
       "      <td>Sun May 10 20:01:44 PDT 2009</td>\n",
       "      <td>NO_QUERY</td>\n",
       "      <td>TheTerrordactyl</td>\n",
       "      <td>3 surgeries scheduled for tomorrow morning. Sh...</td>\n",
       "    </tr>\n",
       "    <tr>\n",
       "      <th>133877</th>\n",
       "      <td>1422140</td>\n",
       "      <td>POSITIVE</td>\n",
       "      <td>2058446859</td>\n",
       "      <td>Sat Jun 06 14:57:41 PDT 2009</td>\n",
       "      <td>NO_QUERY</td>\n",
       "      <td>TrueLiesMoon</td>\n",
       "      <td>Thks Max!!!! Happy!!!! Good night all</td>\n",
       "    </tr>\n",
       "    <tr>\n",
       "      <th>65995</th>\n",
       "      <td>1100007</td>\n",
       "      <td>POSITIVE</td>\n",
       "      <td>1970622012</td>\n",
       "      <td>Sat May 30 04:35:58 PDT 2009</td>\n",
       "      <td>NO_QUERY</td>\n",
       "      <td>ericyan390</td>\n",
       "      <td>going to my Aunt's graduation from cop school....</td>\n",
       "    </tr>\n",
       "    <tr>\n",
       "      <th>46708</th>\n",
       "      <td>518571</td>\n",
       "      <td>NEGATIVE</td>\n",
       "      <td>2191576163</td>\n",
       "      <td>Tue Jun 16 05:33:38 PDT 2009</td>\n",
       "      <td>NO_QUERY</td>\n",
       "      <td>elfinamsterdam</td>\n",
       "      <td>@ann_donnelly miss you too. work busy and got ...</td>\n",
       "    </tr>\n",
       "    <tr>\n",
       "      <th>102055</th>\n",
       "      <td>890668</td>\n",
       "      <td>POSITIVE</td>\n",
       "      <td>1688818104</td>\n",
       "      <td>Sun May 03 11:59:37 PDT 2009</td>\n",
       "      <td>NO_QUERY</td>\n",
       "      <td>twistedflatcat</td>\n",
       "      <td>Feel like carrying some furniture?</td>\n",
       "    </tr>\n",
       "    <tr>\n",
       "      <th>120916</th>\n",
       "      <td>1221808</td>\n",
       "      <td>POSITIVE</td>\n",
       "      <td>1990212890</td>\n",
       "      <td>Mon Jun 01 04:13:30 PDT 2009</td>\n",
       "      <td>NO_QUERY</td>\n",
       "      <td>lalunetropbleme</td>\n",
       "      <td>@Haiilee I'll come</td>\n",
       "    </tr>\n",
       "    <tr>\n",
       "      <th>152956</th>\n",
       "      <td>1041527</td>\n",
       "      <td>POSITIVE</td>\n",
       "      <td>1957088586</td>\n",
       "      <td>Thu May 28 23:29:11 PDT 2009</td>\n",
       "      <td>NO_QUERY</td>\n",
       "      <td>Kyyanno</td>\n",
       "      <td>And it's goodnight from me for the next few ho...</td>\n",
       "    </tr>\n",
       "    <tr>\n",
       "      <th>151154</th>\n",
       "      <td>1310023</td>\n",
       "      <td>POSITIVE</td>\n",
       "      <td>2013208952</td>\n",
       "      <td>Tue Jun 02 22:08:58 PDT 2009</td>\n",
       "      <td>NO_QUERY</td>\n",
       "      <td>thetrudz</td>\n",
       "      <td>Goodnight tweethearts.</td>\n",
       "    </tr>\n",
       "    <tr>\n",
       "      <th>114593</th>\n",
       "      <td>1356417</td>\n",
       "      <td>POSITIVE</td>\n",
       "      <td>2047747648</td>\n",
       "      <td>Fri Jun 05 14:07:05 PDT 2009</td>\n",
       "      <td>NO_QUERY</td>\n",
       "      <td>anika_2305</td>\n",
       "      <td>Today was awesome, Jacob -what a beautiful nam...</td>\n",
       "    </tr>\n",
       "  </tbody>\n",
       "</table>\n",
       "</div>"
      ],
      "text/plain": [
       "        Unnamed: 0    Target         Ids                          Date  \\\n",
       "131961      779698  NEGATIVE  2322989865  Wed Jun 24 23:41:03 PDT 2009   \n",
       "63097       929015  POSITIVE  1759816359  Sun May 10 20:01:44 PDT 2009   \n",
       "133877     1422140  POSITIVE  2058446859  Sat Jun 06 14:57:41 PDT 2009   \n",
       "65995      1100007  POSITIVE  1970622012  Sat May 30 04:35:58 PDT 2009   \n",
       "46708       518571  NEGATIVE  2191576163  Tue Jun 16 05:33:38 PDT 2009   \n",
       "102055      890668  POSITIVE  1688818104  Sun May 03 11:59:37 PDT 2009   \n",
       "120916     1221808  POSITIVE  1990212890  Mon Jun 01 04:13:30 PDT 2009   \n",
       "152956     1041527  POSITIVE  1957088586  Thu May 28 23:29:11 PDT 2009   \n",
       "151154     1310023  POSITIVE  2013208952  Tue Jun 02 22:08:58 PDT 2009   \n",
       "114593     1356417  POSITIVE  2047747648  Fri Jun 05 14:07:05 PDT 2009   \n",
       "\n",
       "            Flag             User  \\\n",
       "131961  NO_QUERY        Kayteeee4   \n",
       "63097   NO_QUERY  TheTerrordactyl   \n",
       "133877  NO_QUERY     TrueLiesMoon   \n",
       "65995   NO_QUERY       ericyan390   \n",
       "46708   NO_QUERY   elfinamsterdam   \n",
       "102055  NO_QUERY   twistedflatcat   \n",
       "120916  NO_QUERY  lalunetropbleme   \n",
       "152956  NO_QUERY          Kyyanno   \n",
       "151154  NO_QUERY         thetrudz   \n",
       "114593  NO_QUERY       anika_2305   \n",
       "\n",
       "                                                     Text  \n",
       "131961          I just really need some motts applesauce   \n",
       "63097   3 surgeries scheduled for tomorrow morning. Sh...  \n",
       "133877             Thks Max!!!! Happy!!!! Good night all   \n",
       "65995   going to my Aunt's graduation from cop school....  \n",
       "46708   @ann_donnelly miss you too. work busy and got ...  \n",
       "102055                Feel like carrying some furniture?   \n",
       "120916                                @Haiilee I'll come   \n",
       "152956  And it's goodnight from me for the next few ho...  \n",
       "151154                            Goodnight tweethearts.   \n",
       "114593  Today was awesome, Jacob -what a beautiful nam...  "
      ]
     },
     "execution_count": 59,
     "metadata": {},
     "output_type": "execute_result"
    }
   ],
   "source": [
    "data.sample(10)"
   ]
  },
  {
   "cell_type": "code",
   "execution_count": 60,
   "metadata": {},
   "outputs": [
    {
     "name": "stdout",
     "output_type": "stream",
     "text": [
      "There are 0  missing values in column Unnamed: 0\n",
      "There are 0  missing values in column Target\n",
      "There are 0  missing values in column Ids\n",
      "There are 0  missing values in column Date\n",
      "There are 0  missing values in column Flag\n",
      "There are 0  missing values in column User\n",
      "There are 0  missing values in column Text\n"
     ]
    }
   ],
   "source": [
    "#List the number of missing values for each column.\n",
    "#Iterate through each column vector to find the # of missing values\n",
    "for row in data:\n",
    "    value = data[row].isnull().sum()\n",
    "    print(\"There are\", value, \" missing values in column\",row)"
   ]
  },
  {
   "cell_type": "code",
   "execution_count": 61,
   "metadata": {},
   "outputs": [],
   "source": [
    "#start cleaning refined dataset by removing duplicates\n",
    "data = data.drop_duplicates(keep=False)"
   ]
  },
  {
   "cell_type": "code",
   "execution_count": 62,
   "metadata": {},
   "outputs": [],
   "source": [
    "#decode_map = {0: \"NEGATIVE\", 4: \"POSITIVE\"}\n",
    "#def decode_sentiment(label):\n",
    "#    return decode_map[int(label)]"
   ]
  },
  {
   "cell_type": "code",
   "execution_count": 63,
   "metadata": {},
   "outputs": [],
   "source": [
    "#data.Target = data.Target.apply(lambda x: decode_sentiment(x))"
   ]
  },
  {
   "cell_type": "code",
   "execution_count": 64,
   "metadata": {},
   "outputs": [
    {
     "data": {
      "text/html": [
       "<div>\n",
       "<style scoped>\n",
       "    .dataframe tbody tr th:only-of-type {\n",
       "        vertical-align: middle;\n",
       "    }\n",
       "\n",
       "    .dataframe tbody tr th {\n",
       "        vertical-align: top;\n",
       "    }\n",
       "\n",
       "    .dataframe thead th {\n",
       "        text-align: right;\n",
       "    }\n",
       "</style>\n",
       "<table border=\"1\" class=\"dataframe\">\n",
       "  <thead>\n",
       "    <tr style=\"text-align: right;\">\n",
       "      <th></th>\n",
       "      <th>Unnamed: 0</th>\n",
       "      <th>Target</th>\n",
       "      <th>Ids</th>\n",
       "      <th>Date</th>\n",
       "      <th>Flag</th>\n",
       "      <th>User</th>\n",
       "      <th>Text</th>\n",
       "    </tr>\n",
       "  </thead>\n",
       "  <tbody>\n",
       "    <tr>\n",
       "      <th>0</th>\n",
       "      <td>1349948</td>\n",
       "      <td>POSITIVE</td>\n",
       "      <td>2045384064</td>\n",
       "      <td>Fri Jun 05 10:38:53 PDT 2009</td>\n",
       "      <td>NO_QUERY</td>\n",
       "      <td>Erika_prettyE</td>\n",
       "      <td>@flyboizyes do ur thang</td>\n",
       "    </tr>\n",
       "    <tr>\n",
       "      <th>1</th>\n",
       "      <td>1159926</td>\n",
       "      <td>POSITIVE</td>\n",
       "      <td>1979388157</td>\n",
       "      <td>Sun May 31 02:50:00 PDT 2009</td>\n",
       "      <td>NO_QUERY</td>\n",
       "      <td>autojoy</td>\n",
       "      <td>@vivschwarz ooh! ooh! Are you playing Shadow o...</td>\n",
       "    </tr>\n",
       "    <tr>\n",
       "      <th>2</th>\n",
       "      <td>385699</td>\n",
       "      <td>NEGATIVE</td>\n",
       "      <td>2053658976</td>\n",
       "      <td>Sat Jun 06 05:17:53 PDT 2009</td>\n",
       "      <td>NO_QUERY</td>\n",
       "      <td>shuyi89</td>\n",
       "      <td>So i lied. I'm sorry..random stranger. I don't...</td>\n",
       "    </tr>\n",
       "    <tr>\n",
       "      <th>3</th>\n",
       "      <td>213614</td>\n",
       "      <td>NEGATIVE</td>\n",
       "      <td>1975048454</td>\n",
       "      <td>Sat May 30 14:20:19 PDT 2009</td>\n",
       "      <td>NO_QUERY</td>\n",
       "      <td>electricnet</td>\n",
       "      <td>God dammit, Pixar. Five months difference betw...</td>\n",
       "    </tr>\n",
       "    <tr>\n",
       "      <th>4</th>\n",
       "      <td>602448</td>\n",
       "      <td>NEGATIVE</td>\n",
       "      <td>2221398369</td>\n",
       "      <td>Thu Jun 18 05:18:28 PDT 2009</td>\n",
       "      <td>NO_QUERY</td>\n",
       "      <td>Catrheinland</td>\n",
       "      <td>Science revision!!!  sooooooooo boring!!!!!</td>\n",
       "    </tr>\n",
       "  </tbody>\n",
       "</table>\n",
       "</div>"
      ],
      "text/plain": [
       "   Unnamed: 0    Target         Ids                          Date      Flag  \\\n",
       "0     1349948  POSITIVE  2045384064  Fri Jun 05 10:38:53 PDT 2009  NO_QUERY   \n",
       "1     1159926  POSITIVE  1979388157  Sun May 31 02:50:00 PDT 2009  NO_QUERY   \n",
       "2      385699  NEGATIVE  2053658976  Sat Jun 06 05:17:53 PDT 2009  NO_QUERY   \n",
       "3      213614  NEGATIVE  1975048454  Sat May 30 14:20:19 PDT 2009  NO_QUERY   \n",
       "4      602448  NEGATIVE  2221398369  Thu Jun 18 05:18:28 PDT 2009  NO_QUERY   \n",
       "\n",
       "            User                                               Text  \n",
       "0  Erika_prettyE                           @flyboizyes do ur thang   \n",
       "1        autojoy  @vivschwarz ooh! ooh! Are you playing Shadow o...  \n",
       "2        shuyi89  So i lied. I'm sorry..random stranger. I don't...  \n",
       "3    electricnet  God dammit, Pixar. Five months difference betw...  \n",
       "4   Catrheinland        Science revision!!!  sooooooooo boring!!!!!  "
      ]
     },
     "execution_count": 64,
     "metadata": {},
     "output_type": "execute_result"
    }
   ],
   "source": [
    "data.head()"
   ]
  },
  {
   "cell_type": "code",
   "execution_count": 65,
   "metadata": {},
   "outputs": [
    {
     "data": {
      "text/plain": [
       "<matplotlib.axes._subplots.AxesSubplot at 0x1a300149e8>"
      ]
     },
     "execution_count": 65,
     "metadata": {},
     "output_type": "execute_result"
    },
    {
     "data": {
      "image/png": "[encoded data removed]",
      "text/plain": [
       "<Figure size 432x288 with 1 Axes>"
      ]
     },
     "metadata": {
      "needs_background": "light"
     },
     "output_type": "display_data"
    }
   ],
   "source": [
    "data['Target'].value_counts().plot('bar')"
   ]
  },
  {
   "cell_type": "code",
   "execution_count": 66,
   "metadata": {},
   "outputs": [
    {
     "data": {
      "text/plain": [
       "lost_dog           59\n",
       "webwoke            45\n",
       "VioletsCRUK        37\n",
       "ramdomthoughts     33\n",
       "shanajaca          29\n",
       "Karen230683        27\n",
       "SallytheShizzle    27\n",
       "felicityfuller     27\n",
       "DarkPiano          25\n",
       "tweetpet           24\n",
       "Name: User, dtype: int64"
      ]
     },
     "execution_count": 66,
     "metadata": {},
     "output_type": "execute_result"
    }
   ],
   "source": [
    "data['User'].value_counts()[0:10]"
   ]
  },
  {
   "cell_type": "code",
   "execution_count": 67,
   "metadata": {},
   "outputs": [],
   "source": [
    "#ten_percent = data.sample(160000)\n",
    "\n"
   ]
  },
  {
   "cell_type": "code",
   "execution_count": 68,
   "metadata": {},
   "outputs": [],
   "source": [
    "#ten_percent.to_csv(\"ten_percent_sample.csv\")"
   ]
  },
  {
   "cell_type": "code",
   "execution_count": 69,
   "metadata": {},
   "outputs": [],
   "source": [
    "import numpy as np\n",
    "import pandas as pd\n",
    "from nltk.corpus import stopwords\n",
    "import re\n",
    "import string\n",
    "from nltk.tokenize import word_tokenize\n",
    "from nltk.corpus import stopwords\n",
    "from nltk.stem.wordnet import WordNetLemmatizer\n"
   ]
  },
  {
   "cell_type": "code",
   "execution_count": 75,
   "metadata": {},
   "outputs": [
    {
     "data": {
      "text/html": [
       "<div>\n",
       "<style scoped>\n",
       "    .dataframe tbody tr th:only-of-type {\n",
       "        vertical-align: middle;\n",
       "    }\n",
       "\n",
       "    .dataframe tbody tr th {\n",
       "        vertical-align: top;\n",
       "    }\n",
       "\n",
       "    .dataframe thead th {\n",
       "        text-align: right;\n",
       "    }\n",
       "</style>\n",
       "<table border=\"1\" class=\"dataframe\">\n",
       "  <thead>\n",
       "    <tr style=\"text-align: right;\">\n",
       "      <th></th>\n",
       "      <th>Unnamed: 0</th>\n",
       "      <th>Target</th>\n",
       "      <th>Ids</th>\n",
       "      <th>Date</th>\n",
       "      <th>Flag</th>\n",
       "      <th>User</th>\n",
       "      <th>Text</th>\n",
       "    </tr>\n",
       "  </thead>\n",
       "  <tbody>\n",
       "    <tr>\n",
       "      <th>0</th>\n",
       "      <td>1349948</td>\n",
       "      <td>POSITIVE</td>\n",
       "      <td>2045384064</td>\n",
       "      <td>Fri Jun 05 10:38:53 PDT 2009</td>\n",
       "      <td>NO_QUERY</td>\n",
       "      <td>Erika_prettyE</td>\n",
       "      <td>@flyboizyes do ur thang</td>\n",
       "    </tr>\n",
       "    <tr>\n",
       "      <th>1</th>\n",
       "      <td>1159926</td>\n",
       "      <td>POSITIVE</td>\n",
       "      <td>1979388157</td>\n",
       "      <td>Sun May 31 02:50:00 PDT 2009</td>\n",
       "      <td>NO_QUERY</td>\n",
       "      <td>autojoy</td>\n",
       "      <td>@vivschwarz ooh! ooh! Are you playing Shadow o...</td>\n",
       "    </tr>\n",
       "    <tr>\n",
       "      <th>2</th>\n",
       "      <td>385699</td>\n",
       "      <td>NEGATIVE</td>\n",
       "      <td>2053658976</td>\n",
       "      <td>Sat Jun 06 05:17:53 PDT 2009</td>\n",
       "      <td>NO_QUERY</td>\n",
       "      <td>shuyi89</td>\n",
       "      <td>So i lied. I'm sorry..random stranger. I don't...</td>\n",
       "    </tr>\n",
       "    <tr>\n",
       "      <th>3</th>\n",
       "      <td>213614</td>\n",
       "      <td>NEGATIVE</td>\n",
       "      <td>1975048454</td>\n",
       "      <td>Sat May 30 14:20:19 PDT 2009</td>\n",
       "      <td>NO_QUERY</td>\n",
       "      <td>electricnet</td>\n",
       "      <td>God dammit, Pixar. Five months difference betw...</td>\n",
       "    </tr>\n",
       "    <tr>\n",
       "      <th>4</th>\n",
       "      <td>602448</td>\n",
       "      <td>NEGATIVE</td>\n",
       "      <td>2221398369</td>\n",
       "      <td>Thu Jun 18 05:18:28 PDT 2009</td>\n",
       "      <td>NO_QUERY</td>\n",
       "      <td>Catrheinland</td>\n",
       "      <td>Science revision!!!  sooooooooo boring!!!!!</td>\n",
       "    </tr>\n",
       "  </tbody>\n",
       "</table>\n",
       "</div>"
      ],
      "text/plain": [
       "   Unnamed: 0    Target         Ids                          Date      Flag  \\\n",
       "0     1349948  POSITIVE  2045384064  Fri Jun 05 10:38:53 PDT 2009  NO_QUERY   \n",
       "1     1159926  POSITIVE  1979388157  Sun May 31 02:50:00 PDT 2009  NO_QUERY   \n",
       "2      385699  NEGATIVE  2053658976  Sat Jun 06 05:17:53 PDT 2009  NO_QUERY   \n",
       "3      213614  NEGATIVE  1975048454  Sat May 30 14:20:19 PDT 2009  NO_QUERY   \n",
       "4      602448  NEGATIVE  2221398369  Thu Jun 18 05:18:28 PDT 2009  NO_QUERY   \n",
       "\n",
       "            User                                               Text  \n",
       "0  Erika_prettyE                           @flyboizyes do ur thang   \n",
       "1        autojoy  @vivschwarz ooh! ooh! Are you playing Shadow o...  \n",
       "2        shuyi89  So i lied. I'm sorry..random stranger. I don't...  \n",
       "3    electricnet  God dammit, Pixar. Five months difference betw...  \n",
       "4   Catrheinland        Science revision!!!  sooooooooo boring!!!!!  "
      ]
     },
     "execution_count": 75,
     "metadata": {},
     "output_type": "execute_result"
    }
   ],
   "source": [
    "data.head()"
   ]
  },
  {
   "cell_type": "code",
   "execution_count": 95,
   "metadata": {},
   "outputs": [],
   "source": [
    "X = data.iloc[:,[6]]\n",
    "\n",
    "df = pd.DataFrame(data=X)\n",
    "\n",
    "df['User'] = data.iloc[:,[5]]"
   ]
  },
  {
   "cell_type": "code",
   "execution_count": 96,
   "metadata": {},
   "outputs": [
    {
     "data": {
      "text/html": [
       "<div>\n",
       "<style scoped>\n",
       "    .dataframe tbody tr th:only-of-type {\n",
       "        vertical-align: middle;\n",
       "    }\n",
       "\n",
       "    .dataframe tbody tr th {\n",
       "        vertical-align: top;\n",
       "    }\n",
       "\n",
       "    .dataframe thead th {\n",
       "        text-align: right;\n",
       "    }\n",
       "</style>\n",
       "<table border=\"1\" class=\"dataframe\">\n",
       "  <thead>\n",
       "    <tr style=\"text-align: right;\">\n",
       "      <th></th>\n",
       "      <th>Text</th>\n",
       "      <th>User</th>\n",
       "    </tr>\n",
       "  </thead>\n",
       "  <tbody>\n",
       "    <tr>\n",
       "      <th>0</th>\n",
       "      <td>@flyboizyes do ur thang</td>\n",
       "      <td>Erika_prettyE</td>\n",
       "    </tr>\n",
       "    <tr>\n",
       "      <th>1</th>\n",
       "      <td>@vivschwarz ooh! ooh! Are you playing Shadow o...</td>\n",
       "      <td>autojoy</td>\n",
       "    </tr>\n",
       "    <tr>\n",
       "      <th>2</th>\n",
       "      <td>So i lied. I'm sorry..random stranger. I don't...</td>\n",
       "      <td>shuyi89</td>\n",
       "    </tr>\n",
       "    <tr>\n",
       "      <th>3</th>\n",
       "      <td>God dammit, Pixar. Five months difference betw...</td>\n",
       "      <td>electricnet</td>\n",
       "    </tr>\n",
       "    <tr>\n",
       "      <th>4</th>\n",
       "      <td>Science revision!!!  sooooooooo boring!!!!!</td>\n",
       "      <td>Catrheinland</td>\n",
       "    </tr>\n",
       "  </tbody>\n",
       "</table>\n",
       "</div>"
      ],
      "text/plain": [
       "                                                Text           User\n",
       "0                           @flyboizyes do ur thang   Erika_prettyE\n",
       "1  @vivschwarz ooh! ooh! Are you playing Shadow o...        autojoy\n",
       "2  So i lied. I'm sorry..random stranger. I don't...        shuyi89\n",
       "3  God dammit, Pixar. Five months difference betw...    electricnet\n",
       "4        Science revision!!!  sooooooooo boring!!!!!   Catrheinland"
      ]
     },
     "execution_count": 96,
     "metadata": {},
     "output_type": "execute_result"
    }
   ],
   "source": [
    "df.head()"
   ]
  },
  {
   "cell_type": "code",
   "execution_count": null,
   "metadata": {},
   "outputs": [],
   "source": []
  },
  {
   "cell_type": "code",
   "execution_count": 83,
   "metadata": {},
   "outputs": [
    {
     "name": "stdout",
     "output_type": "stream",
     "text": [
      "Number of missing values: 0\n"
     ]
    }
   ],
   "source": [
    "\n",
    "import warnings\n",
    "warnings.filterwarnings('ignore')\n",
    "\n",
    "# Text-preprocessing\n",
    "# Missing Values\n",
    "num_missing_desc = data.isnull().sum()[2]    # No. of values with msising descriptions\n",
    "print('Number of missing values: ' + str(num_missing_desc))\n",
    "data = data.dropna()\n",
    "\n",
    "TAG_CLEANING_RE = \"@\\S+\"\n",
    "# Remove @tags\n",
    "X['Text'] = X['Text'].map(lambda x: re.sub(TAG_CLEANING_RE, ' ', x))\n",
    "\n",
    "# Smart lowercase\n",
    "X['Text'] = X['Text'].map(lambda x: x.lower())\n",
    "\n",
    "# Remove numbers\n",
    "X['Text'] = X['Text'].map(lambda x: re.sub(r'\\d+', ' ', x))\n",
    "\n",
    "# Remove links\n",
    "TEXT_CLEANING_RE = \"https?:\\S+|http?:\\S|[^A-Za-z0-9]+\"\n",
    "X['Text'] = X['Text'].map(lambda x: re.sub(TEXT_CLEANING_RE, ' ', x))\n",
    "\n",
    "# Remove Punctuation\n",
    "X['Text']  = X['Text'].map(lambda x: x.translate(x.maketrans('', '', string.punctuation)))\n",
    "\n",
    "# Remove white spaces\n",
    "X['Text'] = X['Text'].map(lambda x: x.strip())\n",
    "\n",
    "# Tokenize into words\n",
    "X['Text'] = X['Text'].map(lambda x: word_tokenize(x))\n",
    " \n",
    "# Remove non alphabetic tokens\n",
    "X['Text'] = X['Text'].map(lambda x: [word for word in x if word.isalpha()])\n",
    "\n",
    "# Filter out stop words\n",
    "# stop_words = set(stopwords.words('english'))\n",
    "# X['Text'] = X['Text'].map(lambda x: [w for w in x if not w in stop_words])\n",
    "    \n",
    "# Word Lemmatization\n",
    "lem = WordNetLemmatizer()\n",
    "X['Text'] = X['Text'].map(lambda x: [lem.lemmatize(word,\"v\") for word in x])\n",
    "\n",
    "# Turn lists back to string\n",
    "X['Text'] = X['Text'].map(lambda x: ' '.join(x))"
   ]
  },
  {
   "cell_type": "code",
   "execution_count": 85,
   "metadata": {},
   "outputs": [],
   "source": [
    "X2 = X[X.Text != \"\"]"
   ]
  },
  {
   "cell_type": "code",
   "execution_count": 92,
   "metadata": {},
   "outputs": [
    {
     "data": {
      "text/html": [
       "<div>\n",
       "<style scoped>\n",
       "    .dataframe tbody tr th:only-of-type {\n",
       "        vertical-align: middle;\n",
       "    }\n",
       "\n",
       "    .dataframe tbody tr th {\n",
       "        vertical-align: top;\n",
       "    }\n",
       "\n",
       "    .dataframe thead th {\n",
       "        text-align: right;\n",
       "    }\n",
       "</style>\n",
       "<table border=\"1\" class=\"dataframe\">\n",
       "  <thead>\n",
       "    <tr style=\"text-align: right;\">\n",
       "      <th></th>\n",
       "      <th>Text</th>\n",
       "      <th>User</th>\n",
       "      <th>Sentiment</th>\n",
       "    </tr>\n",
       "  </thead>\n",
       "  <tbody>\n",
       "    <tr>\n",
       "      <th>0</th>\n",
       "      <td>do ur thang</td>\n",
       "      <td>Erika_prettyE</td>\n",
       "      <td>Neutral</td>\n",
       "    </tr>\n",
       "    <tr>\n",
       "      <th>1</th>\n",
       "      <td>ooh ooh be you play shadow of the colossus one...</td>\n",
       "      <td>autojoy</td>\n",
       "      <td>Positive</td>\n",
       "    </tr>\n",
       "    <tr>\n",
       "      <th>2</th>\n",
       "      <td>so i lie i m sorry random stranger i don t mea...</td>\n",
       "      <td>shuyi89</td>\n",
       "      <td>Negative</td>\n",
       "    </tr>\n",
       "    <tr>\n",
       "      <th>3</th>\n",
       "      <td>god dammit pixar five months difference betwee...</td>\n",
       "      <td>electricnet</td>\n",
       "      <td>Negative</td>\n",
       "    </tr>\n",
       "    <tr>\n",
       "      <th>4</th>\n",
       "      <td>science revision sooooooooo bore</td>\n",
       "      <td>Catrheinland</td>\n",
       "      <td>Negative</td>\n",
       "    </tr>\n",
       "  </tbody>\n",
       "</table>\n",
       "</div>"
      ],
      "text/plain": [
       "                                                Text           User Sentiment\n",
       "0                                        do ur thang  Erika_prettyE   Neutral\n",
       "1  ooh ooh be you play shadow of the colossus one...        autojoy  Positive\n",
       "2  so i lie i m sorry random stranger i don t mea...        shuyi89  Negative\n",
       "3  god dammit pixar five months difference betwee...    electricnet  Negative\n",
       "4                   science revision sooooooooo bore   Catrheinland  Negative"
      ]
     },
     "execution_count": 92,
     "metadata": {},
     "output_type": "execute_result"
    }
   ],
   "source": [
    "X2.head()"
   ]
  },
  {
   "cell_type": "code",
   "execution_count": 88,
   "metadata": {},
   "outputs": [
    {
     "data": {
      "text/plain": [
       "159625"
      ]
     },
     "execution_count": 88,
     "metadata": {},
     "output_type": "execute_result"
    }
   ],
   "source": [
    "len(sentiment)"
   ]
  },
  {
   "cell_type": "code",
   "execution_count": 23,
   "metadata": {},
   "outputs": [
    {
     "data": {
      "text/plain": [
       "159625"
      ]
     },
     "execution_count": 23,
     "metadata": {},
     "output_type": "execute_result"
    }
   ],
   "source": [
    "len(X)"
   ]
  },
  {
   "cell_type": "code",
   "execution_count": 29,
   "metadata": {},
   "outputs": [],
   "source": [
    "a = X2['Text'][0:159625]"
   ]
  },
  {
   "cell_type": "code",
   "execution_count": 30,
   "metadata": {},
   "outputs": [],
   "source": [
    "from pycorenlp import StanfordCoreNLP\n"
   ]
  },
  {
   "cell_type": "code",
   "execution_count": 31,
   "metadata": {},
   "outputs": [],
   "source": [
    "nlp = StanfordCoreNLP('http://localhost:9000')\n"
   ]
  },
  {
   "cell_type": "code",
   "execution_count": 32,
   "metadata": {},
   "outputs": [],
   "source": [
    "sentiment = []\n",
    "def get_sentiment(text):\n",
    "    res = nlp.annotate(text,\n",
    "                       properties={'annotators': 'sentiment',\n",
    "                                   'outputFormat': 'json',\n",
    "                                   'timeout':\"100000\",\n",
    "                       })\n",
    "    sentiment.append(res['sentences'][0]['sentiment'])\n"
   ]
  },
  {
   "cell_type": "code",
   "execution_count": 33,
   "metadata": {},
   "outputs": [],
   "source": [
    "for x in a[0:159625]:\n",
    "    get_sentiment(x)\n"
   ]
  },
  {
   "cell_type": "code",
   "execution_count": 34,
   "metadata": {},
   "outputs": [
    {
     "data": {
      "text/plain": [
       "159625"
      ]
     },
     "execution_count": 34,
     "metadata": {},
     "output_type": "execute_result"
    }
   ],
   "source": [
    "len(sentiment)"
   ]
  },
  {
   "cell_type": "code",
   "execution_count": 89,
   "metadata": {},
   "outputs": [],
   "source": [
    "X2['Sentiment'] = sentiment"
   ]
  },
  {
   "cell_type": "code",
   "execution_count": 90,
   "metadata": {},
   "outputs": [],
   "source": [
    "X2.to_csv('sent.csv')"
   ]
  },
  {
   "cell_type": "code",
   "execution_count": null,
   "metadata": {},
   "outputs": [],
   "source": [
    "# nlp_run['standford_sentiment'] = sentiment\n"
   ]
  },
  {
   "cell_type": "code",
   "execution_count": null,
   "metadata": {},
   "outputs": [],
   "source": [
    "# nlp_run.to_csv('nlp.csv')"
   ]
  },
  {
   "cell_type": "code",
   "execution_count": null,
   "metadata": {},
   "outputs": [],
   "source": []
  }
 ],
 "metadata": {
  "kernelspec": {
   "display_name": "Python 3",
   "language": "python",
   "name": "python3"
  },
  "language_info": {
   "codemirror_mode": {
    "name": "ipython",
    "version": 3
   },
   "file_extension": ".py",
   "mimetype": "text/x-python",
   "name": "python",
   "nbconvert_exporter": "python",
   "pygments_lexer": "ipython3",
   "version": "3.7.1"
  }
 },
 "nbformat": 4,
 "nbformat_minor": 2
}
