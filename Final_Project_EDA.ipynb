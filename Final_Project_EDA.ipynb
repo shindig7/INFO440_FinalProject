{
 "cells": [
  {
   "cell_type": "code",
   "execution_count": 1,
   "metadata": {},
   "outputs": [
    {
     "name": "stderr",
     "output_type": "stream",
     "text": [
      "Using TensorFlow backend.\n"
     ]
    }
   ],
   "source": [
    "import pandas as pd\n",
    "\n",
    "# Matplot\n",
    "import matplotlib.pyplot as plt\n",
    "%matplotlib inline\n",
    "\n",
    "# Scikit-learn\n",
    "from sklearn.model_selection import train_test_split\n",
    "from sklearn.preprocessing import LabelEncoder\n",
    "from sklearn.metrics import confusion_matrix, classification_report, accuracy_score\n",
    "from sklearn.manifold import TSNE\n",
    "from sklearn.feature_extraction.text import TfidfVectorizer\n",
    "\n",
    "from keras.preprocessing.text import Tokenizer\n",
    "from keras.preprocessing.sequence import pad_sequences\n",
    "from keras.models import Sequential\n",
    "from keras.layers import Activation, Dense, Dropout, Embedding, Flatten, Conv1D, MaxPooling1D, LSTM\n",
    "from keras import utils\n",
    "from keras.callbacks import ReduceLROnPlateau, EarlyStopping\n",
    "\n",
    "\n",
    "# nltk\n",
    "import nltk\n",
    "from nltk.corpus import stopwords\n",
    "from  nltk.stem import SnowballStemmer\n",
    "# Word2vec\n",
    "import gensim\n",
    "\n",
    "# Utility\n",
    "import re\n",
    "import numpy as np\n",
    "import os\n",
    "from collections import Counter\n",
    "import logging\n",
    "import time\n",
    "import pickle\n",
    "import itertools\n",
    "\n",
    "# Set log\n",
    "logging.basicConfig(format='%(asctime)s : %(levelname)s : %(message)s', level=logging.INFO)\n"
   ]
  },
  {
   "cell_type": "code",
   "execution_count": 2,
   "metadata": {},
   "outputs": [],
   "source": [
    "data = pd.read_csv('twitter.csv', encoding='latin-1', names=[\"Target\", \"Ids\", \"Date\", \"Flag\", \"User\", \"Text\"])"
   ]
  },
  {
   "cell_type": "code",
   "execution_count": 3,
   "metadata": {},
   "outputs": [],
   "source": [
    "#del data['Flag']"
   ]
  },
  {
   "cell_type": "code",
   "execution_count": 4,
   "metadata": {},
   "outputs": [
    {
     "data": {
      "text/html": [
       "<div>\n",
       "<style scoped>\n",
       "    .dataframe tbody tr th:only-of-type {\n",
       "        vertical-align: middle;\n",
       "    }\n",
       "\n",
       "    .dataframe tbody tr th {\n",
       "        vertical-align: top;\n",
       "    }\n",
       "\n",
       "    .dataframe thead th {\n",
       "        text-align: right;\n",
       "    }\n",
       "</style>\n",
       "<table border=\"1\" class=\"dataframe\">\n",
       "  <thead>\n",
       "    <tr style=\"text-align: right;\">\n",
       "      <th></th>\n",
       "      <th>Target</th>\n",
       "      <th>Ids</th>\n",
       "      <th>Date</th>\n",
       "      <th>Flag</th>\n",
       "      <th>User</th>\n",
       "      <th>Text</th>\n",
       "    </tr>\n",
       "  </thead>\n",
       "  <tbody>\n",
       "    <tr>\n",
       "      <th>638312</th>\n",
       "      <td>0</td>\n",
       "      <td>2234423190</td>\n",
       "      <td>Thu Jun 18 23:01:44 PDT 2009</td>\n",
       "      <td>NO_QUERY</td>\n",
       "      <td>MIRELLAELLA</td>\n",
       "      <td>alright.....i need to put the addiction to res...</td>\n",
       "    </tr>\n",
       "    <tr>\n",
       "      <th>1475170</th>\n",
       "      <td>4</td>\n",
       "      <td>2065854729</td>\n",
       "      <td>Sun Jun 07 09:25:22 PDT 2009</td>\n",
       "      <td>NO_QUERY</td>\n",
       "      <td>phoenix0523</td>\n",
       "      <td>Sleep time for me, take care people and before...</td>\n",
       "    </tr>\n",
       "    <tr>\n",
       "      <th>342801</th>\n",
       "      <td>0</td>\n",
       "      <td>2015330100</td>\n",
       "      <td>Wed Jun 03 04:22:15 PDT 2009</td>\n",
       "      <td>NO_QUERY</td>\n",
       "      <td>haplesshousewif</td>\n",
       "      <td>Finally got that blog post finished and up.Wou...</td>\n",
       "    </tr>\n",
       "    <tr>\n",
       "      <th>461296</th>\n",
       "      <td>0</td>\n",
       "      <td>2174412136</td>\n",
       "      <td>Sun Jun 14 22:30:00 PDT 2009</td>\n",
       "      <td>NO_QUERY</td>\n",
       "      <td>chiefhky29</td>\n",
       "      <td>Hey @joephus0311 this wasnt a good set   (Joep...</td>\n",
       "    </tr>\n",
       "    <tr>\n",
       "      <th>1457291</th>\n",
       "      <td>4</td>\n",
       "      <td>2063571733</td>\n",
       "      <td>Sun Jun 07 03:12:11 PDT 2009</td>\n",
       "      <td>NO_QUERY</td>\n",
       "      <td>LaaurineJ</td>\n",
       "      <td>http://twitpic.com/6tkiq - 2nde9 : My family  (l)</td>\n",
       "    </tr>\n",
       "    <tr>\n",
       "      <th>1237882</th>\n",
       "      <td>4</td>\n",
       "      <td>1993123555</td>\n",
       "      <td>Mon Jun 01 09:52:11 PDT 2009</td>\n",
       "      <td>NO_QUERY</td>\n",
       "      <td>tartdarling</td>\n",
       "      <td>@holydueg not much. just tryin to beat the Wor...</td>\n",
       "    </tr>\n",
       "    <tr>\n",
       "      <th>359469</th>\n",
       "      <td>0</td>\n",
       "      <td>2045823493</td>\n",
       "      <td>Fri Jun 05 11:17:19 PDT 2009</td>\n",
       "      <td>NO_QUERY</td>\n",
       "      <td>gpeventsfl</td>\n",
       "      <td>@pepsi Even the sunshine state doesn't have su...</td>\n",
       "    </tr>\n",
       "    <tr>\n",
       "      <th>430592</th>\n",
       "      <td>0</td>\n",
       "      <td>2064364662</td>\n",
       "      <td>Sun Jun 07 06:03:39 PDT 2009</td>\n",
       "      <td>NO_QUERY</td>\n",
       "      <td>jesssicaraymond</td>\n",
       "      <td>@billyraycyrus oi tell your daughter to lower ...</td>\n",
       "    </tr>\n",
       "    <tr>\n",
       "      <th>373535</th>\n",
       "      <td>0</td>\n",
       "      <td>2051031272</td>\n",
       "      <td>Fri Jun 05 19:44:12 PDT 2009</td>\n",
       "      <td>NO_QUERY</td>\n",
       "      <td>Yental01</td>\n",
       "      <td>I should know better than to eat sweets!</td>\n",
       "    </tr>\n",
       "    <tr>\n",
       "      <th>539739</th>\n",
       "      <td>0</td>\n",
       "      <td>2199521720</td>\n",
       "      <td>Tue Jun 16 17:37:17 PDT 2009</td>\n",
       "      <td>NO_QUERY</td>\n",
       "      <td>JaysBarbieDoll</td>\n",
       "      <td>@KimberlyNash @JayArguelles It's just sad in m...</td>\n",
       "    </tr>\n",
       "  </tbody>\n",
       "</table>\n",
       "</div>"
      ],
      "text/plain": [
       "         Target         Ids                          Date      Flag  \\\n",
       "638312        0  2234423190  Thu Jun 18 23:01:44 PDT 2009  NO_QUERY   \n",
       "1475170       4  2065854729  Sun Jun 07 09:25:22 PDT 2009  NO_QUERY   \n",
       "342801        0  2015330100  Wed Jun 03 04:22:15 PDT 2009  NO_QUERY   \n",
       "461296        0  2174412136  Sun Jun 14 22:30:00 PDT 2009  NO_QUERY   \n",
       "1457291       4  2063571733  Sun Jun 07 03:12:11 PDT 2009  NO_QUERY   \n",
       "1237882       4  1993123555  Mon Jun 01 09:52:11 PDT 2009  NO_QUERY   \n",
       "359469        0  2045823493  Fri Jun 05 11:17:19 PDT 2009  NO_QUERY   \n",
       "430592        0  2064364662  Sun Jun 07 06:03:39 PDT 2009  NO_QUERY   \n",
       "373535        0  2051031272  Fri Jun 05 19:44:12 PDT 2009  NO_QUERY   \n",
       "539739        0  2199521720  Tue Jun 16 17:37:17 PDT 2009  NO_QUERY   \n",
       "\n",
       "                    User                                               Text  \n",
       "638312       MIRELLAELLA  alright.....i need to put the addiction to res...  \n",
       "1475170      phoenix0523  Sleep time for me, take care people and before...  \n",
       "342801   haplesshousewif  Finally got that blog post finished and up.Wou...  \n",
       "461296        chiefhky29  Hey @joephus0311 this wasnt a good set   (Joep...  \n",
       "1457291        LaaurineJ  http://twitpic.com/6tkiq - 2nde9 : My family  (l)  \n",
       "1237882      tartdarling  @holydueg not much. just tryin to beat the Wor...  \n",
       "359469        gpeventsfl  @pepsi Even the sunshine state doesn't have su...  \n",
       "430592   jesssicaraymond  @billyraycyrus oi tell your daughter to lower ...  \n",
       "373535          Yental01         I should know better than to eat sweets!    \n",
       "539739    JaysBarbieDoll  @KimberlyNash @JayArguelles It's just sad in m...  "
      ]
     },
     "execution_count": 4,
     "metadata": {},
     "output_type": "execute_result"
    }
   ],
   "source": [
    "data.sample(10)"
   ]
  },
  {
   "cell_type": "code",
   "execution_count": 5,
   "metadata": {},
   "outputs": [
    {
     "name": "stdout",
     "output_type": "stream",
     "text": [
      "There are 0  missing values in column Target\n",
      "There are 0  missing values in column Ids\n",
      "There are 0  missing values in column Date\n",
      "There are 0  missing values in column Flag\n",
      "There are 0  missing values in column User\n",
      "There are 0  missing values in column Text\n"
     ]
    }
   ],
   "source": [
    "#List the number of missing values for each column.\n",
    "#Iterate through each column vector to find the # of missing values\n",
    "for row in data:\n",
    "    value = data[row].isnull().sum()\n",
    "    print(\"There are\", value, \" missing values in column\",row)"
   ]
  },
  {
   "cell_type": "code",
   "execution_count": 6,
   "metadata": {},
   "outputs": [],
   "source": [
    "#start cleaning refined dataset by removing duplicates\n",
    "data = data.drop_duplicates(keep=False)"
   ]
  },
  {
   "cell_type": "code",
   "execution_count": 7,
   "metadata": {},
   "outputs": [],
   "source": [
    "decode_map = {0: \"NEGATIVE\", 4: \"POSITIVE\"}\n",
    "def decode_sentiment(label):\n",
    "    return decode_map[int(label)]"
   ]
  },
  {
   "cell_type": "code",
   "execution_count": 8,
   "metadata": {},
   "outputs": [],
   "source": [
    "data.Target = data.Target.apply(lambda x: decode_sentiment(x))"
   ]
  },
  {
   "cell_type": "code",
   "execution_count": 9,
   "metadata": {},
   "outputs": [
    {
     "data": {
      "text/html": [
       "<div>\n",
       "<style scoped>\n",
       "    .dataframe tbody tr th:only-of-type {\n",
       "        vertical-align: middle;\n",
       "    }\n",
       "\n",
       "    .dataframe tbody tr th {\n",
       "        vertical-align: top;\n",
       "    }\n",
       "\n",
       "    .dataframe thead th {\n",
       "        text-align: right;\n",
       "    }\n",
       "</style>\n",
       "<table border=\"1\" class=\"dataframe\">\n",
       "  <thead>\n",
       "    <tr style=\"text-align: right;\">\n",
       "      <th></th>\n",
       "      <th>Target</th>\n",
       "      <th>Ids</th>\n",
       "      <th>Date</th>\n",
       "      <th>Flag</th>\n",
       "      <th>User</th>\n",
       "      <th>Text</th>\n",
       "    </tr>\n",
       "  </thead>\n",
       "  <tbody>\n",
       "    <tr>\n",
       "      <th>0</th>\n",
       "      <td>NEGATIVE</td>\n",
       "      <td>1467810369</td>\n",
       "      <td>Mon Apr 06 22:19:45 PDT 2009</td>\n",
       "      <td>NO_QUERY</td>\n",
       "      <td>_TheSpecialOne_</td>\n",
       "      <td>@switchfoot http://twitpic.com/2y1zl - Awww, t...</td>\n",
       "    </tr>\n",
       "    <tr>\n",
       "      <th>1</th>\n",
       "      <td>NEGATIVE</td>\n",
       "      <td>1467810672</td>\n",
       "      <td>Mon Apr 06 22:19:49 PDT 2009</td>\n",
       "      <td>NO_QUERY</td>\n",
       "      <td>scotthamilton</td>\n",
       "      <td>is upset that he can't update his Facebook by ...</td>\n",
       "    </tr>\n",
       "    <tr>\n",
       "      <th>2</th>\n",
       "      <td>NEGATIVE</td>\n",
       "      <td>1467810917</td>\n",
       "      <td>Mon Apr 06 22:19:53 PDT 2009</td>\n",
       "      <td>NO_QUERY</td>\n",
       "      <td>mattycus</td>\n",
       "      <td>@Kenichan I dived many times for the ball. Man...</td>\n",
       "    </tr>\n",
       "    <tr>\n",
       "      <th>3</th>\n",
       "      <td>NEGATIVE</td>\n",
       "      <td>1467811184</td>\n",
       "      <td>Mon Apr 06 22:19:57 PDT 2009</td>\n",
       "      <td>NO_QUERY</td>\n",
       "      <td>ElleCTF</td>\n",
       "      <td>my whole body feels itchy and like its on fire</td>\n",
       "    </tr>\n",
       "    <tr>\n",
       "      <th>4</th>\n",
       "      <td>NEGATIVE</td>\n",
       "      <td>1467811193</td>\n",
       "      <td>Mon Apr 06 22:19:57 PDT 2009</td>\n",
       "      <td>NO_QUERY</td>\n",
       "      <td>Karoli</td>\n",
       "      <td>@nationwideclass no, it's not behaving at all....</td>\n",
       "    </tr>\n",
       "  </tbody>\n",
       "</table>\n",
       "</div>"
      ],
      "text/plain": [
       "     Target         Ids                          Date      Flag  \\\n",
       "0  NEGATIVE  1467810369  Mon Apr 06 22:19:45 PDT 2009  NO_QUERY   \n",
       "1  NEGATIVE  1467810672  Mon Apr 06 22:19:49 PDT 2009  NO_QUERY   \n",
       "2  NEGATIVE  1467810917  Mon Apr 06 22:19:53 PDT 2009  NO_QUERY   \n",
       "3  NEGATIVE  1467811184  Mon Apr 06 22:19:57 PDT 2009  NO_QUERY   \n",
       "4  NEGATIVE  1467811193  Mon Apr 06 22:19:57 PDT 2009  NO_QUERY   \n",
       "\n",
       "              User                                               Text  \n",
       "0  _TheSpecialOne_  @switchfoot http://twitpic.com/2y1zl - Awww, t...  \n",
       "1    scotthamilton  is upset that he can't update his Facebook by ...  \n",
       "2         mattycus  @Kenichan I dived many times for the ball. Man...  \n",
       "3          ElleCTF    my whole body feels itchy and like its on fire   \n",
       "4           Karoli  @nationwideclass no, it's not behaving at all....  "
      ]
     },
     "execution_count": 9,
     "metadata": {},
     "output_type": "execute_result"
    }
   ],
   "source": [
    "data.head()"
   ]
  },
  {
   "cell_type": "code",
   "execution_count": 10,
   "metadata": {},
   "outputs": [
    {
     "data": {
      "text/plain": [
       "<matplotlib.axes._subplots.AxesSubplot at 0x1a42ca9208>"
      ]
     },
     "execution_count": 10,
     "metadata": {},
     "output_type": "execute_result"
    },
    {
     "data": {
      "image/png": "[encoded data removed]",
      "text/plain": [
       "<Figure size 432x288 with 1 Axes>"
      ]
     },
     "metadata": {
      "needs_background": "light"
     },
     "output_type": "display_data"
    }
   ],
   "source": [
    "data['Target'].value_counts().plot('bar')"
   ]
  },
  {
   "cell_type": "code",
   "execution_count": 11,
   "metadata": {},
   "outputs": [
    {
     "data": {
      "text/plain": [
       "lost_dog           549\n",
       "webwoke            345\n",
       "tweetpet           310\n",
       "SallytheShizzle    281\n",
       "VioletsCRUK        279\n",
       "mcraddictal        276\n",
       "tsarnick           248\n",
       "what_bugs_u        246\n",
       "Karen230683        238\n",
       "DarkPiano          236\n",
       "Name: User, dtype: int64"
      ]
     },
     "execution_count": 11,
     "metadata": {},
     "output_type": "execute_result"
    }
   ],
   "source": [
    "data['User'].value_counts()[0:10]"
   ]
  },
  {
   "cell_type": "code",
   "execution_count": 12,
   "metadata": {},
   "outputs": [],
   "source": [
    "ten_percent = data.sample(160000)\n",
    "\n",
    "# test = data[160000:32000]"
   ]
  },
  {
   "cell_type": "code",
   "execution_count": 101,
   "metadata": {},
   "outputs": [],
   "source": [
    "ten_percent.to_csv(\"ten_percent_sample.csv\")"
   ]
  },
  {
   "cell_type": "code",
   "execution_count": 13,
   "metadata": {},
   "outputs": [],
   "source": [
    "import numpy as np\n",
    "import pandas as pd\n",
    "from nltk.corpus import stopwords\n",
    "import re\n",
    "import string\n",
    "from nltk.tokenize import word_tokenize\n",
    "from nltk.corpus import stopwords\n",
    "from nltk.stem.wordnet import WordNetLemmatizer\n"
   ]
  },
  {
   "cell_type": "code",
   "execution_count": 14,
   "metadata": {},
   "outputs": [],
   "source": [
    "X = ten_percent.iloc[:,[5]]\n",
    "# X_test = test.iloc[:,[5]]\n"
   ]
  },
  {
   "cell_type": "code",
   "execution_count": 15,
   "metadata": {},
   "outputs": [
    {
     "data": {
      "text/html": [
       "<div>\n",
       "<style scoped>\n",
       "    .dataframe tbody tr th:only-of-type {\n",
       "        vertical-align: middle;\n",
       "    }\n",
       "\n",
       "    .dataframe tbody tr th {\n",
       "        vertical-align: top;\n",
       "    }\n",
       "\n",
       "    .dataframe thead th {\n",
       "        text-align: right;\n",
       "    }\n",
       "</style>\n",
       "<table border=\"1\" class=\"dataframe\">\n",
       "  <thead>\n",
       "    <tr style=\"text-align: right;\">\n",
       "      <th></th>\n",
       "      <th>Target</th>\n",
       "      <th>Ids</th>\n",
       "      <th>Date</th>\n",
       "      <th>Flag</th>\n",
       "      <th>User</th>\n",
       "      <th>Text</th>\n",
       "    </tr>\n",
       "  </thead>\n",
       "  <tbody>\n",
       "    <tr>\n",
       "      <th>432224</th>\n",
       "      <td>NEGATIVE</td>\n",
       "      <td>2064701021</td>\n",
       "      <td>Sun Jun 07 06:57:39 PDT 2009</td>\n",
       "      <td>NO_QUERY</td>\n",
       "      <td>GerryGreek</td>\n",
       "      <td>@ThisisDavina Pretty, Ur following Luke and no...</td>\n",
       "    </tr>\n",
       "    <tr>\n",
       "      <th>1178354</th>\n",
       "      <td>POSITIVE</td>\n",
       "      <td>1981566741</td>\n",
       "      <td>Sun May 31 09:25:30 PDT 2009</td>\n",
       "      <td>NO_QUERY</td>\n",
       "      <td>KristinaSummer</td>\n",
       "      <td>beautiful day to be outside listening to the b...</td>\n",
       "    </tr>\n",
       "    <tr>\n",
       "      <th>455046</th>\n",
       "      <td>NEGATIVE</td>\n",
       "      <td>2070806987</td>\n",
       "      <td>Sun Jun 07 18:19:48 PDT 2009</td>\n",
       "      <td>NO_QUERY</td>\n",
       "      <td>yaadayaada</td>\n",
       "      <td>@magicofpi My itunes decide to delete my music...</td>\n",
       "    </tr>\n",
       "    <tr>\n",
       "      <th>1259774</th>\n",
       "      <td>POSITIVE</td>\n",
       "      <td>1998188009</td>\n",
       "      <td>Mon Jun 01 18:08:15 PDT 2009</td>\n",
       "      <td>NO_QUERY</td>\n",
       "      <td>Jackienurse1</td>\n",
       "      <td>down 63 Lbs I love my band ; -)  to have my 3r...</td>\n",
       "    </tr>\n",
       "    <tr>\n",
       "      <th>217484</th>\n",
       "      <td>NEGATIVE</td>\n",
       "      <td>1975946883</td>\n",
       "      <td>Sat May 30 16:14:55 PDT 2009</td>\n",
       "      <td>NO_QUERY</td>\n",
       "      <td>mcraddictal</td>\n",
       "      <td>Where'd everyone go?  Anyone there?</td>\n",
       "    </tr>\n",
       "  </tbody>\n",
       "</table>\n",
       "</div>"
      ],
      "text/plain": [
       "           Target         Ids                          Date      Flag  \\\n",
       "432224   NEGATIVE  2064701021  Sun Jun 07 06:57:39 PDT 2009  NO_QUERY   \n",
       "1178354  POSITIVE  1981566741  Sun May 31 09:25:30 PDT 2009  NO_QUERY   \n",
       "455046   NEGATIVE  2070806987  Sun Jun 07 18:19:48 PDT 2009  NO_QUERY   \n",
       "1259774  POSITIVE  1998188009  Mon Jun 01 18:08:15 PDT 2009  NO_QUERY   \n",
       "217484   NEGATIVE  1975946883  Sat May 30 16:14:55 PDT 2009  NO_QUERY   \n",
       "\n",
       "                   User                                               Text  \n",
       "432224       GerryGreek  @ThisisDavina Pretty, Ur following Luke and no...  \n",
       "1178354  KristinaSummer  beautiful day to be outside listening to the b...  \n",
       "455046       yaadayaada  @magicofpi My itunes decide to delete my music...  \n",
       "1259774    Jackienurse1  down 63 Lbs I love my band ; -)  to have my 3r...  \n",
       "217484      mcraddictal                Where'd everyone go?  Anyone there?  "
      ]
     },
     "execution_count": 15,
     "metadata": {},
     "output_type": "execute_result"
    }
   ],
   "source": [
    "ten_percent.head()"
   ]
  },
  {
   "cell_type": "code",
   "execution_count": 16,
   "metadata": {},
   "outputs": [
    {
     "name": "stdout",
     "output_type": "stream",
     "text": [
      "Number of missing values: 0\n"
     ]
    }
   ],
   "source": [
    "\n",
    "import warnings\n",
    "warnings.filterwarnings('ignore')\n",
    "\n",
    "# Text-preprocessing\n",
    "# Missing Values\n",
    "num_missing_desc = ten_percent.isnull().sum()[2]    # No. of values with msising descriptions\n",
    "print('Number of missing values: ' + str(num_missing_desc))\n",
    "ten_percent = ten_percent.dropna()\n",
    "\n",
    "TAG_CLEANING_RE = \"@\\S+\"\n",
    "# Remove @tags\n",
    "X['Text'] = X['Text'].map(lambda x: re.sub(TAG_CLEANING_RE, ' ', x))\n",
    "\n",
    "# Smart lowercase\n",
    "X['Text'] = X['Text'].map(lambda x: x.lower())\n",
    "\n",
    "# Remove numbers\n",
    "X['Text'] = X['Text'].map(lambda x: re.sub(r'\\d+', ' ', x))\n",
    "\n",
    "# Remove links\n",
    "TEXT_CLEANING_RE = \"https?:\\S+|http?:\\S|[^A-Za-z0-9]+\"\n",
    "X['Text'] = X['Text'].map(lambda x: re.sub(TEXT_CLEANING_RE, ' ', x))\n",
    "\n",
    "# Remove Punctuation\n",
    "X['Text']  = X['Text'].map(lambda x: x.translate(x.maketrans('', '', string.punctuation)))\n",
    "\n",
    "# Remove white spaces\n",
    "X['Text'] = X['Text'].map(lambda x: x.strip())\n",
    "\n",
    "# Tokenize into words\n",
    "X['Text'] = X['Text'].map(lambda x: word_tokenize(x))\n",
    " \n",
    "# Remove non alphabetic tokens\n",
    "X['Text'] = X['Text'].map(lambda x: [word for word in x if word.isalpha()])\n",
    "\n",
    "# Filter out stop words\n",
    "# stop_words = set(stopwords.words('english'))\n",
    "# X['Text'] = X['Text'].map(lambda x: [w for w in x if not w in stop_words])\n",
    "    \n",
    "# Word Lemmatization\n",
    "lem = WordNetLemmatizer()\n",
    "X['Text'] = X['Text'].map(lambda x: [lem.lemmatize(word,\"v\") for word in x])\n",
    "\n",
    "# Turn lists back to string\n",
    "X['Text'] = X['Text'].map(lambda x: ' '.join(x))"
   ]
  },
  {
   "cell_type": "code",
   "execution_count": 17,
   "metadata": {},
   "outputs": [
    {
     "data": {
      "text/html": [
       "<div>\n",
       "<style scoped>\n",
       "    .dataframe tbody tr th:only-of-type {\n",
       "        vertical-align: middle;\n",
       "    }\n",
       "\n",
       "    .dataframe tbody tr th {\n",
       "        vertical-align: top;\n",
       "    }\n",
       "\n",
       "    .dataframe thead th {\n",
       "        text-align: right;\n",
       "    }\n",
       "</style>\n",
       "<table border=\"1\" class=\"dataframe\">\n",
       "  <thead>\n",
       "    <tr style=\"text-align: right;\">\n",
       "      <th></th>\n",
       "      <th>Text</th>\n",
       "    </tr>\n",
       "  </thead>\n",
       "  <tbody>\n",
       "    <tr>\n",
       "      <th>432224</th>\n",
       "      <td>pretty ur follow luke and not me</td>\n",
       "    </tr>\n",
       "    <tr>\n",
       "      <th>1178354</th>\n",
       "      <td>beautiful day to be outside listen to the bird...</td>\n",
       "    </tr>\n",
       "    <tr>\n",
       "      <th>455046</th>\n",
       "      <td>my itunes decide to delete my music library on...</td>\n",
       "    </tr>\n",
       "    <tr>\n",
       "      <th>1259774</th>\n",
       "      <td>down lbs i love my band to have my rd fill around</td>\n",
       "    </tr>\n",
       "    <tr>\n",
       "      <th>217484</th>\n",
       "      <td>where d everyone go anyone there</td>\n",
       "    </tr>\n",
       "  </tbody>\n",
       "</table>\n",
       "</div>"
      ],
      "text/plain": [
       "                                                      Text\n",
       "432224                    pretty ur follow luke and not me\n",
       "1178354  beautiful day to be outside listen to the bird...\n",
       "455046   my itunes decide to delete my music library on...\n",
       "1259774  down lbs i love my band to have my rd fill around\n",
       "217484                    where d everyone go anyone there"
      ]
     },
     "execution_count": 17,
     "metadata": {},
     "output_type": "execute_result"
    }
   ],
   "source": [
    "X.head()"
   ]
  },
  {
   "cell_type": "code",
   "execution_count": 18,
   "metadata": {},
   "outputs": [],
   "source": [
    "from pycorenlp import StanfordCoreNLP\n"
   ]
  },
  {
   "cell_type": "code",
   "execution_count": 19,
   "metadata": {},
   "outputs": [],
   "source": [
    "nlp = StanfordCoreNLP('http://localhost:9000')\n"
   ]
  },
  {
   "cell_type": "code",
   "execution_count": 58,
   "metadata": {},
   "outputs": [],
   "source": [
    "sentiment = []\n",
    "def get_sentiment(text):\n",
    "    res = nlp.annotate(text,\n",
    "                       properties={'annotators': 'sentiment',\n",
    "                                   'outputFormat': 'json',\n",
    "                                   'timeout': 100000,\n",
    "                       })\n",
    "    sentiment.append(res['sentences'][0]['sentiment'])\n"
   ]
  },
  {
   "cell_type": "code",
   "execution_count": 59,
   "metadata": {},
   "outputs": [],
   "source": [
    "a = X['Text'][0:16000]"
   ]
  },
  {
   "cell_type": "code",
   "execution_count": 60,
   "metadata": {},
   "outputs": [
    {
     "ename": "IndexError",
     "evalue": "list index out of range",
     "output_type": "error",
     "traceback": [
      "\u001b[0;31m---------------------------------------------------------------------------\u001b[0m",
      "\u001b[0;31mIndexError\u001b[0m                                Traceback (most recent call last)",
      "\u001b[0;32m<ipython-input-60-92ae16dd687d>\u001b[0m in \u001b[0;36m<module>\u001b[0;34m\u001b[0m\n\u001b[1;32m      1\u001b[0m \u001b[0;32mfor\u001b[0m \u001b[0mx\u001b[0m \u001b[0;32min\u001b[0m \u001b[0ma\u001b[0m\u001b[0;34m[\u001b[0m\u001b[0;36m0\u001b[0m\u001b[0;34m:\u001b[0m\u001b[0;36m16000\u001b[0m\u001b[0;34m]\u001b[0m\u001b[0;34m:\u001b[0m\u001b[0;34m\u001b[0m\u001b[0;34m\u001b[0m\u001b[0m\n\u001b[0;32m----> 2\u001b[0;31m     \u001b[0mget_sentiment\u001b[0m\u001b[0;34m(\u001b[0m\u001b[0mx\u001b[0m\u001b[0;34m)\u001b[0m\u001b[0;34m\u001b[0m\u001b[0;34m\u001b[0m\u001b[0m\n\u001b[0m",
      "\u001b[0;32m<ipython-input-58-920290455ab0>\u001b[0m in \u001b[0;36mget_sentiment\u001b[0;34m(text)\u001b[0m\n\u001b[1;32m      6\u001b[0m                                    \u001b[0;34m'timeout'\u001b[0m\u001b[0;34m:\u001b[0m \u001b[0;36m100000\u001b[0m\u001b[0;34m,\u001b[0m\u001b[0;34m\u001b[0m\u001b[0;34m\u001b[0m\u001b[0m\n\u001b[1;32m      7\u001b[0m                        })\n\u001b[0;32m----> 8\u001b[0;31m     \u001b[0msentiment\u001b[0m\u001b[0;34m.\u001b[0m\u001b[0mappend\u001b[0m\u001b[0;34m(\u001b[0m\u001b[0mres\u001b[0m\u001b[0;34m[\u001b[0m\u001b[0;34m'sentences'\u001b[0m\u001b[0;34m]\u001b[0m\u001b[0;34m[\u001b[0m\u001b[0;36m0\u001b[0m\u001b[0;34m]\u001b[0m\u001b[0;34m[\u001b[0m\u001b[0;34m'sentiment'\u001b[0m\u001b[0;34m]\u001b[0m\u001b[0;34m)\u001b[0m\u001b[0;34m\u001b[0m\u001b[0;34m\u001b[0m\u001b[0m\n\u001b[0m",
      "\u001b[0;31mIndexError\u001b[0m: list index out of range"
     ]
    }
   ],
   "source": [
    "for x in a[0:16000]:\n",
    "    get_sentiment(x)\n"
   ]
  },
  {
   "cell_type": "code",
   "execution_count": 61,
   "metadata": {},
   "outputs": [
    {
     "data": {
      "text/plain": [
       "490"
      ]
     },
     "execution_count": 61,
     "metadata": {},
     "output_type": "execute_result"
    }
   ],
   "source": [
    "len(sentiment)"
   ]
  },
  {
   "cell_type": "code",
   "execution_count": 96,
   "metadata": {},
   "outputs": [],
   "source": [
    "nlp_run = pd.DataFrame(data = a[0:490])"
   ]
  },
  {
   "cell_type": "code",
   "execution_count": 89,
   "metadata": {},
   "outputs": [],
   "source": [
    "vader = []\n",
    "from vaderSentiment.vaderSentiment import SentimentIntensityAnalyzer\n",
    "analyser = SentimentIntensityAnalyzer()\n",
    "\n",
    "def sentiment_analyzer_scores(sentence):\n",
    "    score = analyser.polarity_scores(sentence)\n",
    "    vader.append(score)\n"
   ]
  },
  {
   "cell_type": "code",
   "execution_count": 90,
   "metadata": {},
   "outputs": [],
   "source": [
    "for x in a[0:490]:\n",
    "    sentiment_analyzer_scores(x)\n"
   ]
  },
  {
   "cell_type": "code",
   "execution_count": 91,
   "metadata": {},
   "outputs": [],
   "source": [
    "vader_score = []\n",
    "for x in vader:\n",
    "    da = x.get(\"compound\", \"\")\n",
    "    vader_score.append(da)"
   ]
  },
  {
   "cell_type": "code",
   "execution_count": 93,
   "metadata": {},
   "outputs": [],
   "source": [
    "vader_sent = []\n",
    "for x, va in enumerate(vader_score):\n",
    "    if(va > 0.05):\n",
    "        vader_sent.append('Positive') \n",
    "    if(va < 0.05 and va > -0.05):\n",
    "        vader_sent.append('Neutral') \n",
    "    if(va < -0.05):\n",
    "        vader_sent.append('Negative') \n",
    "    \n",
    "    \n",
    "    "
   ]
  },
  {
   "cell_type": "code",
   "execution_count": 95,
   "metadata": {},
   "outputs": [
    {
     "data": {
      "text/plain": [
       "490"
      ]
     },
     "execution_count": 95,
     "metadata": {},
     "output_type": "execute_result"
    }
   ],
   "source": [
    "len(vader_sent)"
   ]
  },
  {
   "cell_type": "code",
   "execution_count": 99,
   "metadata": {},
   "outputs": [],
   "source": [
    "nlp_run['standford_sentiment'] = sentiment\n",
    "nlp_run['Vader_sentiment'] = vader_sent"
   ]
  },
  {
   "cell_type": "code",
   "execution_count": 100,
   "metadata": {},
   "outputs": [],
   "source": [
    "nlp_run.to_csv('nlp.csv')"
   ]
  },
  {
   "cell_type": "code",
   "execution_count": 121,
   "metadata": {},
   "outputs": [
    {
     "name": "stdout",
     "output_type": "stream",
     "text": [
      "Topic 0: miss today quot love thank feel sad like need na look great know haha start hope gon sorry enjoy tweet\n",
      "Topic 1: work make want lol im night come tonight wish twitter away lose say eat tomorrow people wait hate run home\n",
      "Topic 2: think like new really oh day play watch bad happy miss let check hey weekend yeah days guess know buy\n",
      "Topic 3: good time day amp sleep try right home leave awesome long morning love lt wake night na week pretty soon\n"
     ]
    }
   ],
   "source": [
    "import sklearn.decomposition as dec\n",
    "\n",
    "from sklearn.feature_extraction.text import CountVectorizer\n",
    "count = CountVectorizer(stop_words='english', max_df=0.98, min_df=0.01)\n",
    "df_bag = count.fit_transform(X['Text'][0:1000])\n",
    "feature_names = count.get_feature_names()\n",
    "lda = dec.LatentDirichletAllocation(n_components=4)\n",
    "lda.fit(df_bag)\n",
    "n_top_words = 20\n",
    "for topic_idx, topic in enumerate(lda.components_):\n",
    "        print(\"Topic %d: \" % topic_idx, end='')\n",
    "        print(\" \".join([feature_names[i] for i in topic.argsort()[:-n_top_words - 1:-1]]))"
   ]
  },
  {
   "cell_type": "code",
   "execution_count": null,
   "metadata": {},
   "outputs": [],
   "source": []
  }
 ],
 "metadata": {
  "kernelspec": {
   "display_name": "Python 3",
   "language": "python",
   "name": "python3"
  },
  "language_info": {
   "codemirror_mode": {
    "name": "ipython",
    "version": 3
   },
   "file_extension": ".py",
   "mimetype": "text/x-python",
   "name": "python",
   "nbconvert_exporter": "python",
   "pygments_lexer": "ipython3",
   "version": "3.7.1"
  }
 },
 "nbformat": 4,
 "nbformat_minor": 2
}
