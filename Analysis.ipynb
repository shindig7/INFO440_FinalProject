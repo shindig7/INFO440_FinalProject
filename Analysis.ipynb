{
 "cells": [
  {
   "cell_type": "code",
   "execution_count": 61,
   "metadata": {
    "ExecuteTime": {
     "end_time": "2019-06-03T02:11:46.364282Z",
     "start_time": "2019-06-03T02:11:46.360282Z"
    }
   },
   "outputs": [],
   "source": [
    "import pandas as pd\n",
    "import matplotlib.pyplot as plt\n",
    "import numpy as np\n",
    "from collections import Counter"
   ]
  },
  {
   "cell_type": "code",
   "execution_count": 62,
   "metadata": {
    "ExecuteTime": {
     "end_time": "2019-06-03T02:11:48.263820Z",
     "start_time": "2019-06-03T02:11:46.916145Z"
    }
   },
   "outputs": [],
   "source": [
    "main_df = pd.read_csv(\"ten_percent_sample.csv\")\n",
    "nlp_df = pd.read_csv(\"nlp.csv\")\n",
    "follower_df = pd.read_csv(\"followers.csv\")"
   ]
  },
  {
   "cell_type": "code",
   "execution_count": 63,
   "metadata": {
    "ExecuteTime": {
     "end_time": "2019-06-03T02:11:48.447756Z",
     "start_time": "2019-06-03T02:11:48.263820Z"
    }
   },
   "outputs": [],
   "source": [
    "nlp_df = nlp_df[['Ids', 'Sentiment']]\n",
    "main_df = pd.merge(main_df, nlp_df, on=\"Ids\")\n"
   ]
  },
  {
   "cell_type": "code",
   "execution_count": 64,
   "metadata": {
    "ExecuteTime": {
     "end_time": "2019-06-03T02:11:48.491746Z",
     "start_time": "2019-06-03T02:11:48.447756Z"
    }
   },
   "outputs": [],
   "source": [
    "follower_df.columns = [\"User\", \"FollowerCount\"]\n",
    "main_df = pd.merge(main_df, follower_df, on=\"User\", how=\"left\")"
   ]
  },
  {
   "cell_type": "code",
   "execution_count": 65,
   "metadata": {
    "ExecuteTime": {
     "end_time": "2019-06-03T02:11:48.959647Z",
     "start_time": "2019-06-03T02:11:48.931639Z"
    }
   },
   "outputs": [
    {
     "name": "stdout",
     "output_type": "stream",
     "text": [
      "       Target         Ids                          Date      Flag  \\\n",
      "1    POSITIVE  2063039275  Sun Jun 07 01:09:14 PDT 2009  NO_QUERY   \n",
      "9    NEGATIVE  1977994438  Sat May 30 22:10:57 PDT 2009  NO_QUERY   \n",
      "17   POSITIVE  1827937911  Sun May 17 11:45:26 PDT 2009  NO_QUERY   \n",
      "23   NEGATIVE  2261064534  Sat Jun 20 20:12:27 PDT 2009  NO_QUERY   \n",
      "31   NEGATIVE  1794059792  Thu May 14 04:50:31 PDT 2009  NO_QUERY   \n",
      "63   NEGATIVE  2251605427  Sat Jun 20 04:02:01 PDT 2009  NO_QUERY   \n",
      "75   NEGATIVE  2237001651  Fri Jun 19 04:59:31 PDT 2009  NO_QUERY   \n",
      "90   POSITIVE  1836117733  Mon May 18 07:24:18 PDT 2009  NO_QUERY   \n",
      "105  NEGATIVE  2054587656  Sat Jun 06 07:40:30 PDT 2009  NO_QUERY   \n",
      "158  NEGATIVE  1792251412  Wed May 13 22:35:28 PDT 2009  NO_QUERY   \n",
      "\n",
      "                User                                               Text  \\\n",
      "1    demi_lovat0fans  @Tyrone17 oh haha you just asked the same thin...   \n",
      "9          cybersass  @Rubyletters morning to you. I also got home s...   \n",
      "17      JodieCouture  @Jamesabeth good stuff...whats work lookin lik...   \n",
      "23             Mey_C  @Poou_Chan OMG!!!! Sis' I miss U Where have yo...   \n",
      "31         testzilla                     I want threads!! Linear sucks    \n",
      "63       inkscapemag  This is annoying, my drop down menu does not w...   \n",
      "75          alannahs  Hath come the morn of the day of work thou sha...   \n",
      "90         Bulldog36  Well time to started the day, Going to take a ...   \n",
      "105          divelo2  @taylorswift13 we tried to meet you at the pal...   \n",
      "158         jmgarber                               UGH, RIP Have Heart    \n",
      "\n",
      "    Sentiment  FollowerCount  \n",
      "1    Positive          257.0  \n",
      "9    Negative         1737.0  \n",
      "17   Negative          212.0  \n",
      "23    Neutral            2.0  \n",
      "31   Positive            3.0  \n",
      "63    Neutral          392.0  \n",
      "75   Negative           15.0  \n",
      "90   Negative          413.0  \n",
      "105  Negative            0.0  \n",
      "158  Negative          741.0  \n"
     ]
    }
   ],
   "source": [
    "main_df = main_df[~main_df.FollowerCount.isna()].drop(\"Unnamed: 0\", axis=1)\n",
    "print(main_df.head(10))"
   ]
  },
  {
   "cell_type": "code",
   "execution_count": 66,
   "metadata": {
    "ExecuteTime": {
     "end_time": "2019-06-03T02:11:50.879297Z",
     "start_time": "2019-06-03T02:11:50.851302Z"
    }
   },
   "outputs": [
    {
     "data": {
      "text/html": [
       "<div>\n",
       "<style scoped>\n",
       "    .dataframe tbody tr th:only-of-type {\n",
       "        vertical-align: middle;\n",
       "    }\n",
       "\n",
       "    .dataframe tbody tr th {\n",
       "        vertical-align: top;\n",
       "    }\n",
       "\n",
       "    .dataframe thead th {\n",
       "        text-align: right;\n",
       "    }\n",
       "</style>\n",
       "<table border=\"1\" class=\"dataframe\">\n",
       "  <thead>\n",
       "    <tr style=\"text-align: right;\">\n",
       "      <th></th>\n",
       "      <th>Ids</th>\n",
       "      <th>FollowerCount</th>\n",
       "    </tr>\n",
       "  </thead>\n",
       "  <tbody>\n",
       "    <tr>\n",
       "      <th>count</th>\n",
       "      <td>1.205000e+03</td>\n",
       "      <td>1205.000000</td>\n",
       "    </tr>\n",
       "    <tr>\n",
       "      <th>mean</th>\n",
       "      <td>1.995704e+09</td>\n",
       "      <td>2531.375934</td>\n",
       "    </tr>\n",
       "    <tr>\n",
       "      <th>std</th>\n",
       "      <td>2.010827e+08</td>\n",
       "      <td>26569.085064</td>\n",
       "    </tr>\n",
       "    <tr>\n",
       "      <th>min</th>\n",
       "      <td>1.467996e+09</td>\n",
       "      <td>0.000000</td>\n",
       "    </tr>\n",
       "    <tr>\n",
       "      <th>25%</th>\n",
       "      <td>1.932276e+09</td>\n",
       "      <td>12.000000</td>\n",
       "    </tr>\n",
       "    <tr>\n",
       "      <th>50%</th>\n",
       "      <td>2.012715e+09</td>\n",
       "      <td>103.000000</td>\n",
       "    </tr>\n",
       "    <tr>\n",
       "      <th>75%</th>\n",
       "      <td>2.177735e+09</td>\n",
       "      <td>517.000000</td>\n",
       "    </tr>\n",
       "    <tr>\n",
       "      <th>max</th>\n",
       "      <td>2.328820e+09</td>\n",
       "      <td>821436.000000</td>\n",
       "    </tr>\n",
       "  </tbody>\n",
       "</table>\n",
       "</div>"
      ],
      "text/plain": [
       "                Ids  FollowerCount\n",
       "count  1.205000e+03    1205.000000\n",
       "mean   1.995704e+09    2531.375934\n",
       "std    2.010827e+08   26569.085064\n",
       "min    1.467996e+09       0.000000\n",
       "25%    1.932276e+09      12.000000\n",
       "50%    2.012715e+09     103.000000\n",
       "75%    2.177735e+09     517.000000\n",
       "max    2.328820e+09  821436.000000"
      ]
     },
     "execution_count": 66,
     "metadata": {},
     "output_type": "execute_result"
    }
   ],
   "source": [
    "main_df.describe()"
   ]
  },
  {
   "cell_type": "code",
   "execution_count": 111,
   "metadata": {
    "ExecuteTime": {
     "end_time": "2019-06-03T14:08:53.990824Z",
     "start_time": "2019-06-03T14:08:53.591051Z"
    }
   },
   "outputs": [
    {
     "data": {
      "image/png": "[encoded data removed]",
      "text/plain": [
       "<Figure size 576x360 with 1 Axes>"
      ]
     },
     "metadata": {},
     "output_type": "display_data"
    }
   ],
   "source": [
    "fig = plt.figure(figsize=(8,5))\n",
    "ax = fig.add_subplot(1,1,1)\n",
    "ax.set_yscale('log')\n",
    "plt.title(\"Follower Distribution\")\n",
    "plt.xlabel(\"Followers\")\n",
    "plt.ylabel(\"Count (log scale)\")\n",
    "_ = plt.hist(main_df.FollowerCount, color='purple')\n",
    "plt.show()"
   ]
  },
  {
   "cell_type": "code",
   "execution_count": 68,
   "metadata": {
    "ExecuteTime": {
     "end_time": "2019-06-03T02:11:52.702983Z",
     "start_time": "2019-06-03T02:11:52.690987Z"
    }
   },
   "outputs": [
    {
     "name": "stdout",
     "output_type": "stream",
     "text": [
      "There are 301 influencers and 904 non-influencers\n"
     ]
    }
   ],
   "source": [
    "influencers = main_df[main_df.FollowerCount > 517]\n",
    "public = main_df[main_df.FollowerCount <= 517]\n",
    "print(f\"There are {influencers.shape[0]} influencers and {public.shape[0]} non-influencers\")"
   ]
  },
  {
   "cell_type": "code",
   "execution_count": 104,
   "metadata": {
    "ExecuteTime": {
     "end_time": "2019-06-03T14:03:58.091421Z",
     "start_time": "2019-06-03T14:03:58.047447Z"
    }
   },
   "outputs": [
    {
     "data": {
      "text/html": [
       "<div>\n",
       "<style scoped>\n",
       "    .dataframe tbody tr th:only-of-type {\n",
       "        vertical-align: middle;\n",
       "    }\n",
       "\n",
       "    .dataframe tbody tr th {\n",
       "        vertical-align: top;\n",
       "    }\n",
       "\n",
       "    .dataframe thead th {\n",
       "        text-align: right;\n",
       "    }\n",
       "</style>\n",
       "<table border=\"1\" class=\"dataframe\">\n",
       "  <thead>\n",
       "    <tr style=\"text-align: right;\">\n",
       "      <th></th>\n",
       "      <th>Ids</th>\n",
       "      <th>FollowerCount</th>\n",
       "    </tr>\n",
       "  </thead>\n",
       "  <tbody>\n",
       "    <tr>\n",
       "      <th>count</th>\n",
       "      <td>3.010000e+02</td>\n",
       "      <td>301.000000</td>\n",
       "    </tr>\n",
       "    <tr>\n",
       "      <th>mean</th>\n",
       "      <td>1.981175e+09</td>\n",
       "      <td>9828.727575</td>\n",
       "    </tr>\n",
       "    <tr>\n",
       "      <th>std</th>\n",
       "      <td>1.993247e+08</td>\n",
       "      <td>52552.909221</td>\n",
       "    </tr>\n",
       "    <tr>\n",
       "      <th>min</th>\n",
       "      <td>1.467996e+09</td>\n",
       "      <td>522.000000</td>\n",
       "    </tr>\n",
       "    <tr>\n",
       "      <th>25%</th>\n",
       "      <td>1.883538e+09</td>\n",
       "      <td>894.000000</td>\n",
       "    </tr>\n",
       "    <tr>\n",
       "      <th>50%</th>\n",
       "      <td>1.998533e+09</td>\n",
       "      <td>1904.000000</td>\n",
       "    </tr>\n",
       "    <tr>\n",
       "      <th>75%</th>\n",
       "      <td>2.069110e+09</td>\n",
       "      <td>5341.000000</td>\n",
       "    </tr>\n",
       "    <tr>\n",
       "      <th>max</th>\n",
       "      <td>2.327751e+09</td>\n",
       "      <td>821436.000000</td>\n",
       "    </tr>\n",
       "  </tbody>\n",
       "</table>\n",
       "</div>"
      ],
      "text/plain": [
       "                Ids  FollowerCount\n",
       "count  3.010000e+02     301.000000\n",
       "mean   1.981175e+09    9828.727575\n",
       "std    1.993247e+08   52552.909221\n",
       "min    1.467996e+09     522.000000\n",
       "25%    1.883538e+09     894.000000\n",
       "50%    1.998533e+09    1904.000000\n",
       "75%    2.069110e+09    5341.000000\n",
       "max    2.327751e+09  821436.000000"
      ]
     },
     "execution_count": 104,
     "metadata": {},
     "output_type": "execute_result"
    }
   ],
   "source": [
    "influencers.describe()"
   ]
  },
  {
   "cell_type": "code",
   "execution_count": 105,
   "metadata": {
    "ExecuteTime": {
     "end_time": "2019-06-03T14:04:04.351243Z",
     "start_time": "2019-06-03T14:04:04.322278Z"
    }
   },
   "outputs": [
    {
     "data": {
      "text/html": [
       "<div>\n",
       "<style scoped>\n",
       "    .dataframe tbody tr th:only-of-type {\n",
       "        vertical-align: middle;\n",
       "    }\n",
       "\n",
       "    .dataframe tbody tr th {\n",
       "        vertical-align: top;\n",
       "    }\n",
       "\n",
       "    .dataframe thead th {\n",
       "        text-align: right;\n",
       "    }\n",
       "</style>\n",
       "<table border=\"1\" class=\"dataframe\">\n",
       "  <thead>\n",
       "    <tr style=\"text-align: right;\">\n",
       "      <th></th>\n",
       "      <th>Ids</th>\n",
       "      <th>FollowerCount</th>\n",
       "    </tr>\n",
       "  </thead>\n",
       "  <tbody>\n",
       "    <tr>\n",
       "      <th>count</th>\n",
       "      <td>9.040000e+02</td>\n",
       "      <td>904.000000</td>\n",
       "    </tr>\n",
       "    <tr>\n",
       "      <th>mean</th>\n",
       "      <td>2.000542e+09</td>\n",
       "      <td>101.616150</td>\n",
       "    </tr>\n",
       "    <tr>\n",
       "      <th>std</th>\n",
       "      <td>2.015417e+08</td>\n",
       "      <td>129.289394</td>\n",
       "    </tr>\n",
       "    <tr>\n",
       "      <th>min</th>\n",
       "      <td>1.468021e+09</td>\n",
       "      <td>0.000000</td>\n",
       "    </tr>\n",
       "    <tr>\n",
       "      <th>25%</th>\n",
       "      <td>1.932516e+09</td>\n",
       "      <td>5.000000</td>\n",
       "    </tr>\n",
       "    <tr>\n",
       "      <th>50%</th>\n",
       "      <td>2.014419e+09</td>\n",
       "      <td>44.500000</td>\n",
       "    </tr>\n",
       "    <tr>\n",
       "      <th>75%</th>\n",
       "      <td>2.180848e+09</td>\n",
       "      <td>147.000000</td>\n",
       "    </tr>\n",
       "    <tr>\n",
       "      <th>max</th>\n",
       "      <td>2.328820e+09</td>\n",
       "      <td>517.000000</td>\n",
       "    </tr>\n",
       "  </tbody>\n",
       "</table>\n",
       "</div>"
      ],
      "text/plain": [
       "                Ids  FollowerCount\n",
       "count  9.040000e+02     904.000000\n",
       "mean   2.000542e+09     101.616150\n",
       "std    2.015417e+08     129.289394\n",
       "min    1.468021e+09       0.000000\n",
       "25%    1.932516e+09       5.000000\n",
       "50%    2.014419e+09      44.500000\n",
       "75%    2.180848e+09     147.000000\n",
       "max    2.328820e+09     517.000000"
      ]
     },
     "execution_count": 105,
     "metadata": {},
     "output_type": "execute_result"
    }
   ],
   "source": [
    "public.describe()"
   ]
  },
  {
   "cell_type": "code",
   "execution_count": 121,
   "metadata": {
    "ExecuteTime": {
     "end_time": "2019-06-03T14:15:36.013805Z",
     "start_time": "2019-06-03T14:15:35.658009Z"
    }
   },
   "outputs": [
    {
     "data": {
      "image/png": "[encoded data removed]",
      "text/plain": [
       "<Figure size 1440x504 with 2 Axes>"
      ]
     },
     "metadata": {},
     "output_type": "display_data"
    }
   ],
   "source": [
    "plt.figure(figsize=(20,7))\n",
    "plt.subplot(1,2,1)\n",
    "plt.title(\"Public\")\n",
    "plt.xlabel(\"Followers\")\n",
    "plt.ylabel(\"Count\")\n",
    "_ = plt.hist(public.FollowerCount, color='red')\n",
    "plt.subplot(1,2,2)\n",
    "plt.title(\"Influencers\")\n",
    "plt.xlabel(\"Followers\")\n",
    "plt.ylabel(\"Count\")\n",
    "_ = plt.hist(influencers.FollowerCount)\n",
    "plt.show()"
   ]
  },
  {
   "cell_type": "code",
   "execution_count": 70,
   "metadata": {
    "ExecuteTime": {
     "end_time": "2019-06-03T02:11:53.574765Z",
     "start_time": "2019-06-03T02:11:53.562767Z"
    }
   },
   "outputs": [],
   "source": [
    "influencer_len = [len(t) for t in influencers.Text]\n",
    "public_len = [len(t) for t in public.Text]"
   ]
  },
  {
   "cell_type": "code",
   "execution_count": 122,
   "metadata": {
    "ExecuteTime": {
     "end_time": "2019-06-03T14:25:52.265248Z",
     "start_time": "2019-06-03T14:25:51.911222Z"
    }
   },
   "outputs": [
    {
     "data": {
      "image/png": "[encoded data removed]",
      "text/plain": [
       "<Figure size 1440x576 with 2 Axes>"
      ]
     },
     "metadata": {},
     "output_type": "display_data"
    }
   ],
   "source": [
    "plt.figure(figsize=(20,8))\n",
    "plt.subplot(1,2,1)\n",
    "plt.title(\"Public - Tweet Length\")\n",
    "plt.xlabel(\"Number of Characters\")\n",
    "plt.ylabel(\"Count\")\n",
    "_ = plt.hist(public_len, color='red')\n",
    "plt.subplot(1,2,2)\n",
    "plt.title(\"Influencers - Tweet Length\")\n",
    "plt.xlabel(\"Number of Characters\")\n",
    "plt.ylabel(\"Count\")\n",
    "_ = plt.hist(influencer_len)\n",
    "plt.show()"
   ]
  },
  {
   "cell_type": "code",
   "execution_count": 72,
   "metadata": {
    "ExecuteTime": {
     "end_time": "2019-06-03T02:11:54.098633Z",
     "start_time": "2019-06-03T02:11:54.086636Z"
    }
   },
   "outputs": [
    {
     "name": "stdout",
     "output_type": "stream",
     "text": [
      "Influencers, Mean Tweet Length: 81.18\n",
      "Influencers, Median Tweet Length: 79.0\n",
      "\n",
      "Public, Mean Tweet Length: 73.28\n",
      "Public, Median Tweet Length: 69.0\n"
     ]
    }
   ],
   "source": [
    "print(\"Influencers, Mean Tweet Length: {}\".format(round(np.mean(influencer_len), 2)))\n",
    "print(\"Influencers, Median Tweet Length: {}\".format(round(np.median(influencer_len), 2)))\n",
    "print()\n",
    "print(\"Public, Mean Tweet Length: {}\".format(round(np.mean(public_len),2)))\n",
    "print(\"Public, Median Tweet Length: {}\".format(round(np.median(public_len), 2)))"
   ]
  },
  {
   "cell_type": "code",
   "execution_count": 73,
   "metadata": {
    "ExecuteTime": {
     "end_time": "2019-06-03T02:11:54.598507Z",
     "start_time": "2019-06-03T02:11:54.590509Z"
    }
   },
   "outputs": [
    {
     "name": "stdout",
     "output_type": "stream",
     "text": [
      "0.2970954356846473\n"
     ]
    }
   ],
   "source": [
    "sim_count = 0\n",
    "for T, V in zip(main_df.Target, main_df.Sentiment):\n",
    "    try:\n",
    "        if T.lower() == V.lower():\n",
    "            sim_count += 1\n",
    "    except AttributeError:\n",
    "        continue\n",
    "print(sim_count / len(main_df.Target))"
   ]
  },
  {
   "cell_type": "code",
   "execution_count": 124,
   "metadata": {
    "ExecuteTime": {
     "end_time": "2019-06-03T14:38:24.740133Z",
     "start_time": "2019-06-03T14:38:24.422316Z"
    }
   },
   "outputs": [
    {
     "data": {
      "image/png": "[encoded data removed]",
      "text/plain": [
       "<Figure size 1440x576 with 2 Axes>"
      ]
     },
     "metadata": {},
     "output_type": "display_data"
    }
   ],
   "source": [
    "plt.figure(figsize=(20,8))\n",
    "i_sent_count = Counter()\n",
    "for s in influencers[~influencers.Sentiment.isna()].Sentiment:\n",
    "    i_sent_count[s] +=1\n",
    "\n",
    "p_sent_count = Counter()\n",
    "for s in public[~public.Sentiment.isna()].Sentiment:\n",
    "    p_sent_count[s] +=1\n",
    "\n",
    "bars = ['Verynegative', 'Negative', 'Neutral', 'Positive', 'Verypositive']\n",
    "plt.subplot(121)\n",
    "plt.title('Influencers - Sentiment')\n",
    "plt.ylabel(\"Count\")\n",
    "_ = plt.bar(bars, [i_sent_count[b] for b in bars])\n",
    "plt.subplot(122)\n",
    "plt.title('Public - Sentiment')\n",
    "plt.ylabel(\"Count\")\n",
    "_ = plt.bar(bars, [p_sent_count[b] for b in bars], color='red')\n",
    "plt.show()"
   ]
  },
  {
   "cell_type": "code",
   "execution_count": 103,
   "metadata": {
    "ExecuteTime": {
     "end_time": "2019-06-03T13:50:32.080122Z",
     "start_time": "2019-06-03T13:50:32.045143Z"
    }
   },
   "outputs": [
    {
     "name": "stdout",
     "output_type": "stream",
     "text": [
      "0.654485049833887\n",
      "0.41814159292035397\n"
     ]
    }
   ],
   "source": [
    "i_ats = 0\n",
    "p_ats = 0\n",
    "for tweet in influencers.Text:\n",
    "    if \"@\" in tweet:\n",
    "        i_ats += 1\n",
    "for tweet in public.Text:\n",
    "    if \"@\" in tweet:\n",
    "        p_ats += 1\n",
    "print(i_ats / len(influencers.Text))\n",
    "print(p_ats / len(public.Text))"
   ]
  },
  {
   "cell_type": "code",
   "execution_count": 136,
   "metadata": {
    "ExecuteTime": {
     "end_time": "2019-06-03T14:47:05.258096Z",
     "start_time": "2019-06-03T14:47:05.138148Z"
    }
   },
   "outputs": [
    {
     "data": {
      "image/png": "[encoded data removed]",
      "text/plain": [
       "<Figure size 720x360 with 2 Axes>"
      ]
     },
     "metadata": {},
     "output_type": "display_data"
    }
   ],
   "source": [
    "plt.figure(figsize=(10,5))\n",
    "plt.subplot(121)\n",
    "plt.title(\"Influencers\")\n",
    "_ = plt.pie([i_ats, len(influencers.Text)-i_ats], labels=[\"Tweet w/ @\", \"Tweet w/o @\"])\n",
    "plt.subplot(122)\n",
    "plt.title(\"Public\")\n",
    "_ = plt.pie([p_ats, len(public.Text)-p_ats], labels=[\"Tweet w/ @\", \"Tweet w/o @\"])\n",
    "plt.show()"
   ]
  },
  {
   "cell_type": "code",
   "execution_count": null,
   "metadata": {},
   "outputs": [],
   "source": []
  }
 ],
 "metadata": {
  "kernelspec": {
   "display_name": "Python 3",
   "language": "python",
   "name": "python3"
  },
  "language_info": {
   "codemirror_mode": {
    "name": "ipython",
    "version": 3
   },
   "file_extension": ".py",
   "mimetype": "text/x-python",
   "name": "python",
   "nbconvert_exporter": "python",
   "pygments_lexer": "ipython3",
   "version": "3.6.5"
  }
 },
 "nbformat": 4,
 "nbformat_minor": 2
}
